{
 "cells": [
  {
   "cell_type": "code",
   "execution_count": null,
   "id": "af0fca12",
   "metadata": {},
   "outputs": [],
   "source": [
    "import requests"
   ]
  },
  {
   "cell_type": "markdown",
   "id": "8907d522",
   "metadata": {},
   "source": [
    "## Exercize: HTTP Crash Course\n",
    "We'll be taking a look at the [PokeAPI](https://pokeapi.co/)"
   ]
  },
  {
   "cell_type": "code",
   "execution_count": null,
   "id": "c5905c71",
   "metadata": {},
   "outputs": [],
   "source": [
    "resp = requests.get(\"https://pokeapi.co/api/v2/pokemon/snorlax\")"
   ]
  },
  {
   "cell_type": "code",
   "execution_count": null,
   "id": "f4a0e786",
   "metadata": {},
   "outputs": [],
   "source": [
    "resp.content"
   ]
  }
 ],
 "metadata": {
  "kernelspec": {
   "display_name": "Python 3 (ipykernel)",
   "language": "python",
   "name": "python3"
  },
  "language_info": {
   "codemirror_mode": {
    "name": "ipython",
    "version": 3
   },
   "file_extension": ".py",
   "mimetype": "text/x-python",
   "name": "python",
   "nbconvert_exporter": "python",
   "pygments_lexer": "ipython3",
   "version": "3.8.2"
  }
 },
 "nbformat": 4,
 "nbformat_minor": 5
}
