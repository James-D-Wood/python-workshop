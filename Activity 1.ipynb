{
 "cells": [
  {
   "cell_type": "code",
   "execution_count": null,
   "id": "b3b5faaa",
   "metadata": {},
   "outputs": [],
   "source": [
    "import csv\n",
    "import json\n",
    "import pandas\n",
    "import plotly\n",
    "import requests"
   ]
  },
  {
   "cell_type": "markdown",
   "id": "08263b17",
   "metadata": {},
   "source": [
    "## Exercise: Python, Data and You"
   ]
  },
  {
   "cell_type": "markdown",
   "id": "e84037a5",
   "metadata": {},
   "source": [
    "### Unstructured"
   ]
  },
  {
   "cell_type": "markdown",
   "id": "35eb00d8",
   "metadata": {},
   "source": [
    "#### Image"
   ]
  },
  {
   "cell_type": "code",
   "execution_count": null,
   "id": "20459f8a",
   "metadata": {},
   "outputs": [],
   "source": [
    "# the contents of an image file is not human readable (unless you really enjoy reading hexadecimal)\n",
    "with open(\"how_i_created_this_presentation.png\", \"rb\") as img_file:\n",
    "    img_contents = img_file.read()\n",
    "    \n",
    "print(img_contents)"
   ]
  },
  {
   "cell_type": "code",
   "execution_count": null,
   "id": "34cc4bae",
   "metadata": {},
   "outputs": [],
   "source": [
    "# however they are encoded in a way a computer can\n",
    "# Here is the PNG spec in case you are curious: http://www.libpng.org/pub/png/spec/1.2/PNG-Structure.html\n",
    "with Image.open(\"how_i_created_this_presentation.png\") as img:\n",
    "    img.show()"
   ]
  },
  {
   "cell_type": "markdown",
   "id": "1bb41797",
   "metadata": {},
   "source": [
    "#### Text Files"
   ]
  },
  {
   "cell_type": "code",
   "execution_count": null,
   "id": "bba3861e",
   "metadata": {},
   "outputs": [],
   "source": [
    "# Unstructured text readable, but limited in use from a programming point of view\n",
    "with open(\"wisdom.txt\") as txt_file:\n",
    "    txt_data = txt_file.read()\n",
    "\n",
    "print(type(txt_data))\n",
    "print(txt_data)"
   ]
  },
  {
   "cell_type": "markdown",
   "id": "d57662d6",
   "metadata": {},
   "source": [
    "### Structured"
   ]
  },
  {
   "cell_type": "markdown",
   "id": "d97b8084",
   "metadata": {},
   "source": [
    "#### JSON"
   ]
  },
  {
   "cell_type": "code",
   "execution_count": null,
   "id": "57619178",
   "metadata": {},
   "outputs": [],
   "source": [
    "import json\n",
    "\n",
    "# at first glance the benefits of structured data may not be clear...\n",
    "with open(\"pikachu.json\") as jsonfile:\n",
    "    poke_data = jsonfile.read()\n",
    "    \n",
    "print(poke_data)"
   ]
  },
  {
   "cell_type": "code",
   "execution_count": null,
   "id": "c7f4cfc3",
   "metadata": {},
   "outputs": [],
   "source": [
    "# but deserializing the data allows us to do a lot of useful things in python\n",
    "pikachu = json.loads(poke_data)\n",
    "available_keys = pikachu.keys()\n",
    "print(available_keys)"
   ]
  },
  {
   "cell_type": "code",
   "execution_count": null,
   "id": "cb341345",
   "metadata": {},
   "outputs": [],
   "source": [
    "pikachus_moves = [move['move']['name'] for move in pikachu['moves']]\n",
    "print(sorted(pikachus_moves))"
   ]
  },
  {
   "cell_type": "markdown",
   "id": "9b7456e1",
   "metadata": {},
   "source": [
    "#### CSV"
   ]
  },
  {
   "cell_type": "code",
   "execution_count": null,
   "id": "2f118117",
   "metadata": {},
   "outputs": [],
   "source": [
    "# same goes for csv files\n",
    "with open('swifty.csv', newline='') as csvfile:\n",
    "    teardrops_on_my_data = csvfile.read()\n",
    "print(type(teardrops_on_my_data))\n",
    "print(teardrops_on_my_data)"
   ]
  },
  {
   "cell_type": "code",
   "execution_count": null,
   "id": "299739a5",
   "metadata": {},
   "outputs": [],
   "source": [
    "import csv\n",
    "bangers = []\n",
    "with open('swifty.csv', newline='') as csvfile:\n",
    "    reader = csv.DictReader(csvfile)\n",
    "    for row in reader:\n",
    "        bangers.append(row)\n",
    "\n",
    "print(type(bangers))\n",
    "print(\"Song - Danceability\")\n",
    "bangers = sorted(bangers, key=lambda song: song['danceability'], reverse=True)\n",
    "for bop in bangers:\n",
    "    print(f\"{bop['name']} - {bop['danceability']}\")"
   ]
  },
  {
   "cell_type": "code",
   "execution_count": null,
   "id": "4b95c537",
   "metadata": {},
   "outputs": [],
   "source": [
    "import pandas\n",
    "df = pandas.read_csv('swifty.csv')\n",
    "df.sort_values('danceability', ascending=False)"
   ]
  },
  {
   "cell_type": "code",
   "execution_count": null,
   "id": "0727a9df",
   "metadata": {},
   "outputs": [],
   "source": [
    "import plotly.express as px\n",
    "fig = px.histogram(df, x=\"danceability\")\n",
    "fig.show()"
   ]
  },
  {
   "cell_type": "code",
   "execution_count": null,
   "id": "21965e4b",
   "metadata": {},
   "outputs": [],
   "source": [
    "fig2 = px.histogram(df, x=\"acousticness\")\n",
    "fig2.show()"
   ]
  },
  {
   "cell_type": "markdown",
   "id": "498c9bd8",
   "metadata": {},
   "source": [
    "## References\n",
    "### Books\n",
    "- [Python for Data Analysis: Data Wrangling with Pandas, NumPy, and IPython](https://www.oreilly.com/library/view/python-for-data/9781491957653/)\n",
    "\n",
    "### Documentation\n",
    "- [Reading and Writing Files](https://docs.python.org/3/tutorial/inputoutput.html#reading-and-writing-files)\n",
    "- [Sorting](https://docs.python.org/3/howto/sorting.html)\n",
    "- [csv](https://docs.python.org/3/library/csv.html)\n",
    "- [matplotlib](https://matplotlib.org/)\n",
    "- [nltk](https://www.nltk.org/install.html)\n",
    "- [numpy](https://numpy.org/)\n",
    "- [Pillow](https://pillow.readthedocs.io/en/stable/index.html)\n",
    "- [plotly](https://plotly.com/python/)\n",
    "- [requests](https://docs.python-requests.org/en/latest/)\n",
    "- [worldcloud](https://amueller.github.io/word_cloud/)"
   ]
  },
  {
   "cell_type": "code",
   "execution_count": null,
   "id": "b3a21ca6",
   "metadata": {},
   "outputs": [],
   "source": []
  }
 ],
 "metadata": {
  "kernelspec": {
   "display_name": "Python 3 (ipykernel)",
   "language": "python",
   "name": "python3"
  },
  "language_info": {
   "codemirror_mode": {
    "name": "ipython",
    "version": 3
   },
   "file_extension": ".py",
   "mimetype": "text/x-python",
   "name": "python",
   "nbconvert_exporter": "python",
   "pygments_lexer": "ipython3",
   "version": "3.8.2"
  }
 },
 "nbformat": 4,
 "nbformat_minor": 5
}
